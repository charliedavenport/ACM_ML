{
 "cells": [
  {
   "cell_type": "code",
   "execution_count": 1,
   "metadata": {},
   "outputs": [],
   "source": [
    "from tensorflow.keras.models import Sequential\n",
    "from tensorflow.keras.layers import Dense, Dropout, Flatten\n",
    "from tensorflow.keras.layers import Conv2D, MaxPooling2D\n",
    "from tensorflow.keras.datasets import mnist, cifar10\n",
    "from tensorflow.keras.optimizers import SGD\n",
    "import tensorflow.keras.utils\n",
    "import tensorflow.keras.backend as K\n",
    "import numpy as np\n",
    "import tensorflow as tf\n",
    "import matplotlib.pyplot as plt\n",
    "\n",
    "from datetime import datetime\n",
    "\n",
    "\n",
    "#print(K.tensorflow_backend._get_available_gpus())\n",
    "#print('img data fmt: ', K.image_data_format())"
   ]
  },
  {
   "cell_type": "code",
   "execution_count": 2,
   "metadata": {},
   "outputs": [
    {
     "name": "stdout",
     "output_type": "stream",
     "text": [
      "X_train.shape =  (60000, 28, 28)  y_train.shape =  (60000,)\n",
      "X_test.shape =  (10000, 28, 28)  y_test.shape =  (10000,)\n",
      "data type:  <class 'numpy.uint8'>\n",
      "label type:  <class 'numpy.uint8'>\n"
     ]
    }
   ],
   "source": [
    "(X_train, y_train), (X_test, y_test) = mnist.load_data()\n",
    "print('X_train.shape = ', X_train.shape, ' y_train.shape = ', y_train.shape)\n",
    "print('X_test.shape = ', X_test.shape, ' y_test.shape = ', y_test.shape)\n",
    "\n",
    "print('data type: ', type(X_train[0][0][0]))\n",
    "print('label type: ', type(y_train[0]))"
   ]
  },
  {
   "cell_type": "code",
   "execution_count": 3,
   "metadata": {},
   "outputs": [
    {
     "name": "stdout",
     "output_type": "stream",
     "text": [
      "X_train.shape =  (60000, 28, 28, 1)  y_train.shape =  (60000, 10)\n",
      "X_test.shape =  (10000, 28, 28, 1)  y_test.shape =  (10000, 10)\n",
      "data type:  <class 'numpy.float32'>\n",
      "label type:  <class 'numpy.float32'>\n"
     ]
    }
   ],
   "source": [
    "# Reshape data and normalize between [0.0 , 1.0] before feeding it to our model\n",
    "\n",
    "X_train = X_train.reshape(X_train.shape[0], 28, 28, 1)\n",
    "X_test = X_test.reshape(X_test.shape[0], 28, 28, 1)\n",
    "# convert target labels from scalars to an array of binary values\n",
    "y_train = tf.keras.utils.to_categorical(y_train, 10)\n",
    "y_test = tf.keras.utils.to_categorical(y_test, 10)\n",
    "\n",
    "# convert img data from ints in range [0,255] to floats in range [0,1] \n",
    "X_train = X_train.astype('float32')\n",
    "X_test = X_test.astype('float32')\n",
    "X_train = X_train / 255\n",
    "X_test = X_test / 255\n",
    "\n",
    "print('X_train.shape = ', X_train.shape, ' y_train.shape = ', y_train.shape)\n",
    "print('X_test.shape = ', X_test.shape, ' y_test.shape = ', y_test.shape)\n",
    "\n",
    "# check the type of the first element in our 4-D array\n",
    "print('data type: ', type(X_train[0][0][0][0])) \n",
    "print('label type: ', type(y_train[0][0]))"
   ]
  },
  {
   "cell_type": "markdown",
   "metadata": {},
   "source": [
    "# MultiLayer Perceptron (MLP)\n",
    "\n",
    "* 4 fully connected (dense) layers\n",
    "    * 1 input layer (784,)\n",
    "    * 2 hidden layers (128,) ReLU\n",
    "    * 1 output layer (10,) softmax\n",
    "    \n",
    "Outputs probability for each class"
   ]
  },
  {
   "cell_type": "code",
   "execution_count": 4,
   "metadata": {},
   "outputs": [
    {
     "name": "stdout",
     "output_type": "stream",
     "text": [
      "Model: \"sequential\"\n",
      "_________________________________________________________________\n",
      "Layer (type)                 Output Shape              Param #   \n",
      "=================================================================\n",
      "flatten (Flatten)            (None, 784)               0         \n",
      "_________________________________________________________________\n",
      "dense (Dense)                (None, 128)               100480    \n",
      "_________________________________________________________________\n",
      "dense_1 (Dense)              (None, 128)               16512     \n",
      "_________________________________________________________________\n",
      "dense_2 (Dense)              (None, 128)               16512     \n",
      "_________________________________________________________________\n",
      "dense_3 (Dense)              (None, 10)                1290      \n",
      "=================================================================\n",
      "Total params: 134,794\n",
      "Trainable params: 134,794\n",
      "Non-trainable params: 0\n",
      "_________________________________________________________________\n"
     ]
    }
   ],
   "source": [
    "# create an empty sequential model\n",
    "model = Sequential()\n",
    "\n",
    "# add layers\n",
    "model.add(Flatten(input_shape=(28,28,1))) # outputs (784,) array\n",
    "model.add(Dense(units=128, activation='relu'))\n",
    "model.add(Dense(units=128, activation='relu'))\n",
    "model.add(Dense(units=128, activation='relu'))\n",
    "model.add(Dense(units=10, activation='softmax'))\n",
    "\n",
    "# Stochastic Gradient Descent (SGD) optimizer\n",
    "sgd = SGD(lr=0.01, momentum=0.9, decay=0.0, nesterov=False)\n",
    "\n",
    "# Compile the model - this is where memory is allocated and a compute graph is generated\n",
    "model.compile(loss='categorical_crossentropy',\n",
    "              optimizer=sgd,\n",
    "              metrics=['accuracy'])\n",
    "\n",
    "# print out a summary of our model\n",
    "model.summary()"
   ]
  },
  {
   "cell_type": "code",
   "execution_count": 5,
   "metadata": {},
   "outputs": [],
   "source": [
    "# TensorBoard stuff\n",
    "\n",
    "log_dir=\"logs\\\\fit\\\\\" + datetime.now().strftime(\"%Y%m%d-%H%M%S\")\n",
    "tensorboard_callback = tf.keras.callbacks.TensorBoard(log_dir=log_dir, histogram_freq=1)"
   ]
  },
  {
   "cell_type": "code",
   "execution_count": 6,
   "metadata": {},
   "outputs": [
    {
     "name": "stdout",
     "output_type": "stream",
     "text": [
      "Train on 60000 samples\n",
      "Epoch 1/10\n",
      "  128/60000 [..............................] - ETA: 9:09 - loss: 2.3173 - accuracy: 0.1172WARNING:tensorflow:Method (on_train_batch_end) is slow compared to the batch update (0.149387). Check your callbacks.\n",
      "60000/60000 [==============================] - 33s 557us/sample - loss: 0.5216 - accuracy: 0.8474\n",
      "Epoch 2/10\n",
      "60000/60000 [==============================] - 31s 520us/sample - loss: 0.1888 - accuracy: 0.9445\n",
      "Epoch 3/10\n",
      "60000/60000 [==============================] - 31s 513us/sample - loss: 0.1366 - accuracy: 0.9593\n",
      "Epoch 4/10\n",
      "60000/60000 [==============================] - 29s 483us/sample - loss: 0.1075 - accuracy: 0.9679\n",
      "Epoch 5/10\n",
      "60000/60000 [==============================] - 29s 490us/sample - loss: 0.0861 - accuracy: 0.9749\n",
      "Epoch 6/10\n",
      "60000/60000 [==============================] - 31s 523us/sample - loss: 0.0730 - accuracy: 0.9783\n",
      "Epoch 7/10\n",
      "60000/60000 [==============================] - 32s 528us/sample - loss: 0.0635 - accuracy: 0.9811\n",
      "Epoch 8/10\n",
      "60000/60000 [==============================] - 28s 471us/sample - loss: 0.0540 - accuracy: 0.9837\n",
      "Epoch 9/10\n",
      "60000/60000 [==============================] - 31s 512us/sample - loss: 0.0462 - accuracy: 0.9858\n",
      "Epoch 10/10\n",
      "60000/60000 [==============================] - 30s 500us/sample - loss: 0.0407 - accuracy: 0.9877\n"
     ]
    }
   ],
   "source": [
    "# if you get a ResourceExhaustedError, decrease the batch_size\n",
    "hist = model.fit(X_train, y_train, epochs=10, batch_size=128,\n",
    "                 callbacks=[tensorboard_callback])\n",
    "# model.fit() returns a history object, which is a dict containing loss and acc metrics (and any other metrics we pass in)"
   ]
  },
  {
   "cell_type": "code",
   "execution_count": 8,
   "metadata": {},
   "outputs": [
    {
     "data": {
      "image/png": "[encoded data removed]",
      "text/plain": [
       "<Figure size 576x360 with 1 Axes>"
      ]
     },
     "metadata": {},
     "output_type": "display_data"
    }
   ],
   "source": [
    "plt.style.use('seaborn')\n",
    "plt.figure(figsize=(8,5)) # figsize is in inches\n",
    "# plot the history object returned by the fit() method\n",
    "plt.plot(hist.history['loss'], 'r')\n",
    "plt.plot(hist.history['accuracy'], 'r--')\n",
    "plt.xlabel('Training Epoch')\n",
    "plt.ylabel('Training Accuracy/Loss')\n",
    "plt.legend(['Loss (categorical cross-entropy)', 'Accuracy'])\n",
    "plt.grid(True)\n",
    "plt.ylim(0,1)\n",
    "plt.show()\n"
   ]
  },
  {
   "cell_type": "code",
   "execution_count": 9,
   "metadata": {
    "collapsed": true,
    "jupyter": {
     "outputs_hidden": true
    }
   },
   "outputs": [],
   "source": [
    "loss, accuracy = model.evaluate(X_test, y_test, batch_size=128)\n",
    "# works, but text output is bugged? "
   ]
  },
  {
   "cell_type": "code",
   "execution_count": 10,
   "metadata": {},
   "outputs": [
    {
     "name": "stdout",
     "output_type": "stream",
     "text": [
      "test loss:  0.07671343453207519\n",
      "test accuracy:  0.977\n"
     ]
    }
   ],
   "source": [
    "print('test loss: ', loss)\n",
    "print('test accuracy: ', accuracy)"
   ]
  },
  {
   "cell_type": "markdown",
   "metadata": {},
   "source": [
    "# Convolutional Neural Net\n",
    "\n",
    " * 2 Convolutional Layers\n",
    " * 2 Max-Pooling Layers\n",
    " * 2 Fully-Connected layers\n",
    " \n",
    " in $\\rightarrow$ Conv2d $\\rightarrow$ Max Pooling $\\rightarrow$ Conv2d $\\rightarrow$ Max Pooling $\\rightarrow$ Fully Connected $\\rightarrow$ out"
   ]
  },
  {
   "cell_type": "code",
   "execution_count": 14,
   "metadata": {},
   "outputs": [
    {
     "name": "stdout",
     "output_type": "stream",
     "text": [
      "Model: \"sequential_2\"\n",
      "_________________________________________________________________\n",
      "Layer (type)                 Output Shape              Param #   \n",
      "=================================================================\n",
      "conv2d_2 (Conv2D)            (None, 26, 26, 32)        320       \n",
      "_________________________________________________________________\n",
      "max_pooling2d_2 (MaxPooling2 (None, 13, 13, 32)        0         \n",
      "_________________________________________________________________\n",
      "conv2d_3 (Conv2D)            (None, 11, 11, 64)        18496     \n",
      "_________________________________________________________________\n",
      "max_pooling2d_3 (MaxPooling2 (None, 5, 5, 64)          0         \n",
      "_________________________________________________________________\n",
      "flatten_2 (Flatten)          (None, 1600)              0         \n",
      "_________________________________________________________________\n",
      "dense_6 (Dense)              (None, 128)               204928    \n",
      "_________________________________________________________________\n",
      "dense_7 (Dense)              (None, 10)                1290      \n",
      "=================================================================\n",
      "Total params: 225,034\n",
      "Trainable params: 225,034\n",
      "Non-trainable params: 0\n",
      "_________________________________________________________________\n"
     ]
    }
   ],
   "source": [
    "cnn = Sequential()\n",
    "cnn.add(Conv2D(32, kernel_size=(3,3),\n",
    "               activation='relu',\n",
    "               input_shape= (28,28,1)))\n",
    "cnn.add(MaxPooling2D(pool_size=(2,2)))\n",
    "cnn.add(Conv2D(64, (3,3), activation='relu'))\n",
    "cnn.add(MaxPooling2D(pool_size=(2,2)))\n",
    "cnn.add(Flatten())\n",
    "cnn.add(Dense(128, activation='relu'))\n",
    "cnn.add(Dense(10, activation='softmax'))\n",
    "\n",
    "sgd = SGD(lr=0.01, momentum=0.9, decay=0.0, nesterov=False)\n",
    "\n",
    "cnn.compile(loss=tf.keras.losses.categorical_crossentropy,\n",
    "            optimizer=sgd,\n",
    "            metrics=['accuracy'])\n",
    "\n",
    "cnn.summary()"
   ]
  },
  {
   "cell_type": "code",
   "execution_count": 16,
   "metadata": {},
   "outputs": [
    {
     "name": "stdout",
     "output_type": "stream",
     "text": [
      "Train on 60000 samples\n",
      "Epoch 1/10\n",
      "  128/60000 [..............................] - ETA: 13s - loss: 0.0556 - accuracy: 0.9922WARNING:tensorflow:Method (on_train_batch_end) is slow compared to the batch update (0.142816). Check your callbacks.\n",
      "60000/60000 [==============================] - 3s 49us/sample - loss: 0.0721 - accuracy: 0.9775\n",
      "Epoch 2/10\n",
      "60000/60000 [==============================] - 3s 43us/sample - loss: 0.0565 - accuracy: 0.9822\n",
      "Epoch 3/10\n",
      "60000/60000 [==============================] - 3s 43us/sample - loss: 0.0467 - accuracy: 0.9857\n",
      "Epoch 4/10\n",
      "60000/60000 [==============================] - 3s 43us/sample - loss: 0.0387 - accuracy: 0.9880\n",
      "Epoch 5/10\n",
      "60000/60000 [==============================] - 3s 43us/sample - loss: 0.0343 - accuracy: 0.9895\n",
      "Epoch 6/10\n",
      "60000/60000 [==============================] - 3s 42us/sample - loss: 0.0295 - accuracy: 0.9906\n",
      "Epoch 7/10\n",
      "60000/60000 [==============================] - 3s 43us/sample - loss: 0.0267 - accuracy: 0.9915\n",
      "Epoch 8/10\n",
      "60000/60000 [==============================] - 3s 43us/sample - loss: 0.0221 - accuracy: 0.9930\n",
      "Epoch 9/10\n",
      "60000/60000 [==============================] - 3s 43us/sample - loss: 0.0212 - accuracy: 0.9936\n",
      "Epoch 10/10\n",
      "60000/60000 [==============================] - 3s 43us/sample - loss: 0.0179 - accuracy: 0.9941\n"
     ]
    }
   ],
   "source": [
    "log_dir=\"logs\\\\fit\\\\\" + datetime.now().strftime(\"%Y%m%d-%H%M%S\")\n",
    "tensorboard_callback = tf.keras.callbacks.TensorBoard(log_dir=log_dir, histogram_freq=1)\n",
    "\n",
    "hist_cnn = cnn.fit(X_train, y_train, batch_size=128, epochs=10, callbacks=[tensorboard_callback])"
   ]
  },
  {
   "cell_type": "code",
   "execution_count": 17,
   "metadata": {},
   "outputs": [
    {
     "data": {
      "image/png": "[encoded data removed]",
      "text/plain": [
       "<Figure size 576x360 with 1 Axes>"
      ]
     },
     "metadata": {},
     "output_type": "display_data"
    }
   ],
   "source": [
    "plt.figure(figsize=(8,5))\n",
    "plt.plot(hist.history['loss'], 'r')\n",
    "plt.plot(hist.history['accuracy'], 'r--')\n",
    "plt.plot(hist_cnn.history['loss'], 'b')\n",
    "plt.plot(hist_cnn.history['accuracy'], 'b--')\n",
    "plt.xlabel('Training Epoch')\n",
    "plt.ylabel('Training Accuracy/Loss')\n",
    "plt.legend(['MLP Loss', 'MLP Accuracy', \n",
    "            'CNN Loss', 'CNN Accuracy'])\n",
    "plt.grid(True)\n",
    "plt.ylim(0,1)\n",
    "plt.savefig('MNIST_cnn_mlp.png', dpi=150, bbox_inches='tight')\n",
    "plt.show() # if you call plt.savefig() after plt.show(), you'll save a blank figure"
   ]
  },
  {
   "cell_type": "code",
   "execution_count": null,
   "metadata": {},
   "outputs": [],
   "source": [
    "loss, accuracy = cnn.evaluate(X_test, y_test, batch_size=128)\n",
    "\n",
    "print('test loss: ', loss)\n",
    "print('test accuracy: ', accuracy)"
   ]
  },
  {
   "cell_type": "code",
   "execution_count": null,
   "metadata": {},
   "outputs": [],
   "source": []
  }
 ],
 "metadata": {
  "kernelspec": {
   "display_name": "Python 3",
   "language": "python",
   "name": "python3"
  },
  "language_info": {
   "codemirror_mode": {
    "name": "ipython",
    "version": 3
   },
   "file_extension": ".py",
   "mimetype": "text/x-python",
   "name": "python",
   "nbconvert_exporter": "python",
   "pygments_lexer": "ipython3",
   "version": "3.6.5"
  }
 },
 "nbformat": 4,
 "nbformat_minor": 4
}
