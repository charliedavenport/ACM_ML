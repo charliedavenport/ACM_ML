{
 "cells": [
  {
   "cell_type": "markdown",
   "metadata": {},
   "source": [
    "# Recurrent Neural Network to generate (predict) text data using Keras\n",
    "* LSTM (Long Short-Term Memory) Network\n",
    "* Code based on this article https://towardsdatascience.com/recurrent-neural-networks-by-example-in-python-ffd204f99470\n",
    "* Data: full text of Alice in Wonderland taken from https://archive.org/stream/alicesadventures19033gut/19033.txt"
   ]
  },
  {
   "cell_type": "code",
   "execution_count": 1,
   "metadata": {},
   "outputs": [],
   "source": [
    "from tensorflow.keras.models import Sequential\n",
    "from tensorflow.keras.layers import Dense, Dropout, Embedding, LSTM, Masking\n",
    "from tensorflow.keras.preprocessing.text import Tokenizer\n",
    "from tensorflow.keras.utils import to_categorical\n",
    "from tensorflow.keras.callbacks import EarlyStopping, ModelCheckpoint\n",
    "from sklearn.utils import shuffle, class_weight\n",
    "from sklearn.model_selection import train_test_split\n",
    "import numpy as np\n",
    "import matplotlib.pyplot as plt\n",
    "import tensorflow as tf"
   ]
  },
  {
   "cell_type": "code",
   "execution_count": 2,
   "metadata": {},
   "outputs": [],
   "source": [
    "# SOURCE: https://archive.org/stream/alicesadventures19033gut/19033.txt\n",
    "text = open('Alice_in_Wonderland.txt').read()\n",
    "text = text.replace('.', ' .')\n",
    "#text = text.replace(',', ' ,')\n",
    "text = text.replace('\\n', ' ')\n",
    "#print(text[:5000])\n",
    "text = text.split(' ')\n",
    "#print(text[500:550])"
   ]
  },
  {
   "cell_type": "markdown",
   "metadata": {},
   "source": [
    "# Use Tokenizer class to turn text into numeric data"
   ]
  },
  {
   "cell_type": "code",
   "execution_count": 3,
   "metadata": {},
   "outputs": [
    {
     "name": "stdout",
     "output_type": "stream",
     "text": [
      "[ 11   9 338 ...  20 151   2]\n",
      "10124 total words\n"
     ]
    }
   ],
   "source": [
    "# set num_words to some int value to reduce size of label array, and number of params in last layer of model\n",
    "tokenizer = Tokenizer(num_words=None, char_level=False, split=' ', filters=',!\"#$%&()*+-/:;<=>?@[\\\\]^_`{|}~\\t\\n')\n",
    "tokenizer.fit_on_texts(text)\n",
    "sequences = tokenizer.texts_to_sequences(text)\n",
    "# for some reason, tokenizer returns sequences\n",
    "flat_seq = []\n",
    "for sub_arr in sequences:\n",
    "    for item in sub_arr:\n",
    "        flat_seq.append(item)\n",
    "seq = np.array(flat_seq, dtype=np.int32)\n",
    "print(seq)\n",
    "print(len(seq), 'total words')"
   ]
  },
  {
   "cell_type": "code",
   "execution_count": 4,
   "metadata": {},
   "outputs": [
    {
     "name": "stdout",
     "output_type": "stream",
     "text": [
      "1524  words in the dictionary\n",
      "['the', '.', 'and', 'a', 'to', 'she', 'of', 'it', 'was']\n"
     ]
    }
   ],
   "source": [
    "print(len(tokenizer.index_word), ' words in the dictionary') # number of unique words\n",
    "print([tokenizer.index_word[i] for i in range(1,10)]) # first ten words in dictionary (indexing starts at 1)"
   ]
  },
  {
   "cell_type": "markdown",
   "metadata": {},
   "source": [
    "# Prepare training data and labels\n",
    "* Features (model input): 50 consecutive words from the text\n",
    "* Labels (model output): The next word in that sequence"
   ]
  },
  {
   "cell_type": "code",
   "execution_count": 5,
   "metadata": {},
   "outputs": [
    {
     "name": "stdout",
     "output_type": "stream",
     "text": [
      "(10074, 50) (10074,)\n",
      "[7.430e+02 4.000e+01 4.000e+00 2.830e+02 8.000e+00 1.247e+03 4.000e+00\n",
      " 1.690e+02 3.110e+02 5.000e+00 4.600e+01 1.200e+01 1.100e+01 2.090e+02\n",
      " 2.800e+01 7.900e+01 3.100e+01 1.370e+02 2.700e+01 5.190e+02 1.700e+01\n",
      " 8.000e+00 4.440e+02 3.000e+00 5.600e+01 1.300e+01 9.000e+00 1.300e+01\n",
      " 1.248e+03 5.160e+02 1.249e+03 1.300e+01 1.110e+02 4.200e+01 4.800e+01\n",
      " 1.250e+03 2.000e+00 6.400e+01 3.500e+01 4.700e+01 4.100e+01 1.200e+01\n",
      " 1.000e+00 2.420e+02 1.000e+01 4.000e+00 1.251e+03 1.580e+02 1.700e+01\n",
      " 8.000e+00] 520.0\n",
      "['girl', 'or', 'a', 'serpent', 'it', 'matters', 'a', 'good', 'deal', 'to', 'me', 'said', 'alice', 'hastily', 'but', \"i'm\", 'not', 'looking', 'for', 'eggs', 'as', 'it', 'happens', 'and', 'if', 'i', 'was', 'i', \"shouldn't\", 'want', 'yours', 'i', \"don't\", 'like', 'them', 'raw', '.', 'well', 'be', 'off', 'then', 'said', 'the', 'pigeon', 'in', 'a', 'sulky', 'tone', 'as', 'it'] settled\n"
     ]
    }
   ],
   "source": [
    "features = []\n",
    "labels = []\n",
    "\n",
    "training_len = 50\n",
    "\n",
    "for i in range(training_len, len(seq)):\n",
    "    # sub_seq has length of trainin_len + 1\n",
    "    sub_seq = seq[i-training_len : i+1]\n",
    "    features.append(sub_seq[:-1]) # all but last word\n",
    "    labels.append(sub_seq[-1]) # last word in sub-sequence\n",
    "\n",
    "# hold on to sorted data/labels for text generation after we train the model\n",
    "X_sorted, y_sorted = np.array(features, dtype=np.float32), np.array(labels, dtype=np.float32)\n",
    "# use shuffled data for training and testing\n",
    "X,y = shuffle(X_sorted, y_sorted)\n",
    "\n",
    "print(X.shape, y.shape)\n",
    "print(X[0], y[0])\n",
    "\n",
    "print([tokenizer.index_word[i] for i in X[0]], \n",
    "      tokenizer.index_word[y[0]])"
   ]
  },
  {
   "cell_type": "markdown",
   "metadata": {},
   "source": [
    "# One-Hot encoding of labels, Train/Test split\n",
    "* One-hot scheme: 3 == [0 0 0 1 0 ... 0] \n",
    "* Binary array represents class probabilities (each unique word is a class)\n",
    "* NOTE: the one-hot encoding will take up significantly more memory than the integer representation of labels. To reduce the size of the encoded labels, set the `num_words` parameter in the Tokenizer object. This will also reduce the number of parameters in the final layer"
   ]
  },
  {
   "cell_type": "code",
   "execution_count": 6,
   "metadata": {},
   "outputs": [
    {
     "name": "stdout",
     "output_type": "stream",
     "text": [
      "(8059, 50) (8059, 1525)\n",
      "(2015, 50) (2015, 1525)\n"
     ]
    }
   ],
   "source": [
    "# + 1 because word dictionary indexing starts at 1\n",
    "n_words = len(tokenizer.index_word) + 1\n",
    "\n",
    "# one-hot encoding for labels\n",
    "y_onehot = to_categorical(y, n_words)\n",
    "#print(list(y_onehot[0]).index(1), y[0]) # these two should be the same int value\n",
    "#print(y_onehot.shape)\n",
    "\n",
    "X_train, X_test, y_train, y_test = train_test_split(X, y_onehot, test_size=0.2)\n",
    "print(X_train.shape, y_train.shape)\n",
    "print(X_test.shape, y_test.shape)"
   ]
  },
  {
   "cell_type": "markdown",
   "metadata": {},
   "source": [
    "# Handling label imbalance by creating a dictionary of class weights\n",
    "* The most common words are much more common than the vast majority of less common. This leads to a network which is heavily biased towards those words, and only produces them\n",
    "* To combat this, we can assign more weight during training to instances whose labels are less common (not when testing/predicting)\n",
    "* Using keras, we can pass in a `class_weight` dictionary to the `fit()` method"
   ]
  },
  {
   "cell_type": "code",
   "execution_count": 7,
   "metadata": {},
   "outputs": [
    {
     "name": "stdout",
     "output_type": "stream",
     "text": [
      "[0.01059333 0.01690597 0.01985056 ... 6.61023622 6.61023622 6.61023622]\n"
     ]
    }
   ],
   "source": [
    "class_weights = class_weight.compute_class_weight('balanced', np.unique(y), y)\n",
    "print(class_weights)"
   ]
  },
  {
   "cell_type": "markdown",
   "metadata": {},
   "source": [
    "# Create Model: LSTM (Long Short-Term Memory) Network\n",
    "* Wikipedia: https://en.wikipedia.org/wiki/Long_short-term_memory\n",
    "* Mathematical explanation of LSTM: https://colah.github.io/posts/2015-08-Understanding-LSTMs/\n",
    "* LSTMs by example: https://towardsdatascience.com/recurrent-neural-networks-by-example-in-python-ffd204f99470"
   ]
  },
  {
   "cell_type": "code",
   "execution_count": 25,
   "metadata": {},
   "outputs": [
    {
     "name": "stdout",
     "output_type": "stream",
     "text": [
      "Model: \"sequential_3\"\n",
      "_________________________________________________________________\n",
      "Layer (type)                 Output Shape              Param #   \n",
      "=================================================================\n",
      "embedding_3 (Embedding)      (None, 50, 100)           152500    \n",
      "_________________________________________________________________\n",
      "lstm_3 (LSTM)                (None, 512)               1255424   \n",
      "_________________________________________________________________\n",
      "dense_6 (Dense)              (None, 1024)              525312    \n",
      "_________________________________________________________________\n",
      "dropout_3 (Dropout)          (None, 1024)              0         \n",
      "_________________________________________________________________\n",
      "dense_7 (Dense)              (None, 1525)              1563125   \n",
      "=================================================================\n",
      "Total params: 3,496,361\n",
      "Trainable params: 3,496,361\n",
      "Non-trainable params: 0\n",
      "_________________________________________________________________\n",
      "None\n"
     ]
    }
   ],
   "source": [
    "model = Sequential()\n",
    "\n",
    "# https://keras.io/layers/embeddings/\n",
    "# can reduce model complexity by pre-computing embedding matrix, setting trainable=False\n",
    "model.add(Embedding(input_dim=n_words, input_length=training_len, output_dim=100,\n",
    "                    trainable=True, mask_zero=True))\n",
    "\n",
    "# https://keras.io/layers/core/#Masking\n",
    "#model.add(Masking(mask_value=0.0))\n",
    "\n",
    "# https://keras.io/layers/recurrent/\n",
    "model.add(LSTM(512, return_sequences=False, dropout=0.5, recurrent_dropout=0.1))\n",
    "\n",
    "# fully-connected layer with dropout\n",
    "model.add(Dense(1024, activation='relu'))\n",
    "model.add(Dropout(0.5))\n",
    "\n",
    "# output layer - softmax activation for predicted class probabilities\n",
    "model.add(Dense(n_words, activation='softmax'))\n",
    "\n",
    "\n",
    "# Compile the model. Same loss function as with MNIST model (multi-class classification score)\n",
    "model.compile(optimizer='adam', loss='categorical_crossentropy', metrics=['accuracy'])\n",
    "\n",
    "print(model.summary())"
   ]
  },
  {
   "cell_type": "code",
   "execution_count": 26,
   "metadata": {},
   "outputs": [
    {
     "name": "stdout",
     "output_type": "stream",
     "text": [
      "Train on 6447 samples, validate on 1612 samples\n",
      "Epoch 1/30\n",
      "6447/6447 [==============================] - 6s 1ms/sample - loss: 6.2585 - accuracy: 0.0552 - val_loss: 5.9108 - val_accuracy: 0.0658\n",
      "Epoch 2/30\n",
      "6447/6447 [==============================] - 4s 609us/sample - loss: 5.8655 - accuracy: 0.0565 - val_loss: 5.9219 - val_accuracy: 0.0658\n",
      "Epoch 3/30\n",
      "6447/6447 [==============================] - 4s 590us/sample - loss: 5.7816 - accuracy: 0.0574 - val_loss: 5.8642 - val_accuracy: 0.0658\n",
      "Epoch 4/30\n",
      "6447/6447 [==============================] - 4s 666us/sample - loss: 5.6826 - accuracy: 0.0614 - val_loss: 5.8624 - val_accuracy: 0.0664\n",
      "Epoch 5/30\n",
      "6447/6447 [==============================] - 4s 575us/sample - loss: 5.6271 - accuracy: 0.0611 - val_loss: 5.8684 - val_accuracy: 0.0645\n",
      "Epoch 6/30\n",
      "6447/6447 [==============================] - 4s 576us/sample - loss: 5.5785 - accuracy: 0.0631 - val_loss: 5.8951 - val_accuracy: 0.0676\n",
      "Epoch 7/30\n",
      "6447/6447 [==============================] - 4s 576us/sample - loss: 5.4737 - accuracy: 0.0662 - val_loss: 5.8873 - val_accuracy: 0.0720\n",
      "Epoch 8/30\n",
      "6447/6447 [==============================] - 4s 645us/sample - loss: 5.3884 - accuracy: 0.0703 - val_loss: 5.8701 - val_accuracy: 0.0732\n",
      "Epoch 9/30\n",
      "6447/6447 [==============================] - 4s 580us/sample - loss: 5.3136 - accuracy: 0.0717 - val_loss: 5.8657 - val_accuracy: 0.0627\n",
      "Epoch 10/30\n",
      "6447/6447 [==============================] - 4s 604us/sample - loss: 5.2196 - accuracy: 0.0721 - val_loss: 5.9967 - val_accuracy: 0.0757\n",
      "Epoch 11/30\n",
      "6447/6447 [==============================] - 4s 591us/sample - loss: 5.1529 - accuracy: 0.0791 - val_loss: 5.9504 - val_accuracy: 0.0713\n",
      "Epoch 12/30\n",
      "6447/6447 [==============================] - 4s 614us/sample - loss: 5.0655 - accuracy: 0.0790 - val_loss: 6.0576 - val_accuracy: 0.0695\n",
      "Epoch 13/30\n",
      "6447/6447 [==============================] - 4s 606us/sample - loss: 4.9989 - accuracy: 0.0786 - val_loss: 6.0394 - val_accuracy: 0.0763\n",
      "Epoch 14/30\n",
      "6447/6447 [==============================] - 4s 601us/sample - loss: 4.9043 - accuracy: 0.0819 - val_loss: 6.1549 - val_accuracy: 0.0769\n",
      "Epoch 15/30\n",
      "6447/6447 [==============================] - 4s 611us/sample - loss: 4.8246 - accuracy: 0.0834 - val_loss: 6.2468 - val_accuracy: 0.0757\n",
      "Epoch 16/30\n",
      "6447/6447 [==============================] - 4s 619us/sample - loss: 4.7239 - accuracy: 0.0918 - val_loss: 6.2929 - val_accuracy: 0.0800\n",
      "Epoch 17/30\n",
      "6447/6447 [==============================] - 4s 592us/sample - loss: 4.6180 - accuracy: 0.0987 - val_loss: 6.3087 - val_accuracy: 0.0794\n",
      "Epoch 18/30\n",
      "6447/6447 [==============================] - 4s 637us/sample - loss: 4.5391 - accuracy: 0.1067 - val_loss: 6.4444 - val_accuracy: 0.0769\n",
      "Epoch 19/30\n",
      "6447/6447 [==============================] - 4s 625us/sample - loss: 4.4122 - accuracy: 0.1123 - val_loss: 6.5121 - val_accuracy: 0.0806\n",
      "Epoch 20/30\n",
      "6447/6447 [==============================] - 4s 628us/sample - loss: 4.2771 - accuracy: 0.1256 - val_loss: 6.6386 - val_accuracy: 0.0862\n",
      "Epoch 21/30\n",
      "6447/6447 [==============================] - 4s 628us/sample - loss: 4.1496 - accuracy: 0.1312 - val_loss: 6.7396 - val_accuracy: 0.0918\n",
      "Epoch 22/30\n",
      "6447/6447 [==============================] - 4s 602us/sample - loss: 4.0033 - accuracy: 0.1446 - val_loss: 6.8702 - val_accuracy: 0.0868\n",
      "Epoch 23/30\n",
      "6447/6447 [==============================] - 4s 660us/sample - loss: 3.8877 - accuracy: 0.1596 - val_loss: 7.0888 - val_accuracy: 0.0949\n",
      "Epoch 24/30\n",
      "6447/6447 [==============================] - 4s 659us/sample - loss: 3.7306 - accuracy: 0.1671 - val_loss: 7.1392 - val_accuracy: 0.0900\n",
      "Epoch 25/30\n",
      "6447/6447 [==============================] - 4s 594us/sample - loss: 3.5962 - accuracy: 0.1819 - val_loss: 7.2475 - val_accuracy: 0.0862\n",
      "Epoch 26/30\n",
      "6447/6447 [==============================] - 4s 588us/sample - loss: 3.4091 - accuracy: 0.2175 - val_loss: 7.3787 - val_accuracy: 0.0856\n",
      "Epoch 27/30\n",
      "6447/6447 [==============================] - 4s 634us/sample - loss: 3.2357 - accuracy: 0.2333 - val_loss: 7.6689 - val_accuracy: 0.0844\n",
      "Epoch 28/30\n",
      "6447/6447 [==============================] - 4s 656us/sample - loss: 3.0822 - accuracy: 0.2516 - val_loss: 7.7499 - val_accuracy: 0.0813\n",
      "Epoch 29/30\n",
      "6447/6447 [==============================] - 4s 637us/sample - loss: 2.8727 - accuracy: 0.2930 - val_loss: 8.0740 - val_accuracy: 0.0900\n",
      "Epoch 30/30\n",
      "6447/6447 [==============================] - 4s 585us/sample - loss: 2.6767 - accuracy: 0.3276 - val_loss: 8.3418 - val_accuracy: 0.0831\n"
     ]
    }
   ],
   "source": [
    "cb = [EarlyStopping(monitor='val_loss', patience=10, restore_best_weights=False)]\n",
    "\n",
    "with tf.device('/gpu:0'):\n",
    "    hist = model.fit(X_train, y_train, batch_size=128, epochs=30, \n",
    "                     class_weight=class_weights, validation_split=0.2,\n",
    "                     callbacks=[])"
   ]
  },
  {
   "cell_type": "code",
   "execution_count": 27,
   "metadata": {},
   "outputs": [
    {
     "name": "stdout",
     "output_type": "stream",
     "text": [
      "[8.391769155970874, 0.0898263]\n"
     ]
    }
   ],
   "source": [
    "scores = model.evaluate(X_test, y_test, batch_size=128, verbose=0) \n",
    "# bugged output? Displays way too many '=' in progress bar when verbose=1\n",
    "print(scores)"
   ]
  },
  {
   "cell_type": "code",
   "execution_count": 28,
   "metadata": {},
   "outputs": [
    {
     "data": {
      "image/png": "[encoded data removed]",
      "text/plain": [
       "<Figure size 576x396 with 1 Axes>"
      ]
     },
     "metadata": {},
     "output_type": "display_data"
    },
    {
     "data": {
      "image/png": "[encoded data removed]",
      "text/plain": [
       "<Figure size 576x396 with 1 Axes>"
      ]
     },
     "metadata": {},
     "output_type": "display_data"
    }
   ],
   "source": [
    "plt.style.use('seaborn')\n",
    "\n",
    "plt.plot(hist.history['accuracy'])\n",
    "plt.plot(hist.history['val_accuracy'])\n",
    "plt.legend(['train accuracy', 'val accuracy'])\n",
    "plt.show()\n",
    "\n",
    "plt.plot(hist.history['loss'])\n",
    "plt.plot(hist.history['val_loss'])\n",
    "plt.legend(['train loss', 'val loss'])\n",
    "plt.show()"
   ]
  },
  {
   "cell_type": "markdown",
   "metadata": {},
   "source": [
    "# Use trained model to predict next word"
   ]
  },
  {
   "cell_type": "code",
   "execution_count": 49,
   "metadata": {},
   "outputs": [
    {
     "name": "stdout",
     "output_type": "stream",
     "text": [
      "Seed Sequence: \n",
      "\"bill the master says you've got to go down the chimney alice drew her foot as far down the chimney as she could and waited till she heard a little animal scratching and scrambling about in the chimney close above her then she gave one sharp kick and waited to\"\n",
      "\n",
      "Predicted next 50 words: \n",
      "\"have it i you knee of the duchess thing was was to she general passion of seven goes one about custard rabbit's roast alone catch him you be you whole and silence and then another confusion on way or of his head brandy consider don't choke him yes happened to\"\n",
      "\n",
      "Actual next 50 words: \n",
      "\"see what would happen next . the first thing she heard was a general chorus of there goes bill then the rabbit's voice alone catch him you by the hedge then silence and then another confusion of voices hold up his head brandy now don't choke him what happened to\"\n"
     ]
    }
   ],
   "source": [
    "rand_ind = np.random.randint(len(X_sorted)-training_len)\n",
    "#rand_ind = 0 # uncomment to specify a start index\n",
    "\n",
    "seed_seq = X_sorted[rand_ind]\n",
    "# np.argmax() to go from binary label arrays to integer class labels\n",
    "actual_seq = y_sorted[rand_ind : rand_ind+training_len]\n",
    "\n",
    "pred_seq = np.empty((training_len,))\n",
    "for i in range(training_len):\n",
    "    pred_seq[i] = np.argmax(model.predict(np.expand_dims(X_sorted[rand_ind+i, :], axis=0))[0])\n",
    "    \n",
    "\n",
    "print('Seed Sequence: ')\n",
    "print('\\\"' + ' '.join([tokenizer.index_word[i] for i in seed_seq]) + '\\\"')\n",
    "print('\\nPredicted next 50 words: ')\n",
    "print('\\\"' + ' '.join([tokenizer.index_word[i] for i in pred_seq]) + '\\\"')\n",
    "print('\\nActual next 50 words: ')\n",
    "print('\\\"' + ' '.join([tokenizer.index_word[i] for i in actual_seq]) + '\\\"')\n"
   ]
  },
  {
   "cell_type": "code",
   "execution_count": null,
   "metadata": {},
   "outputs": [],
   "source": []
  },
  {
   "cell_type": "markdown",
   "metadata": {},
   "source": [
    "# Conclusion: NLP is hard :("
   ]
  }
 ],
 "metadata": {
  "kernelspec": {
   "display_name": "Python 3",
   "language": "python",
   "name": "python3"
  },
  "language_info": {
   "codemirror_mode": {
    "name": "ipython",
    "version": 3
   },
   "file_extension": ".py",
   "mimetype": "text/x-python",
   "name": "python",
   "nbconvert_exporter": "python",
   "pygments_lexer": "ipython3",
   "version": "3.7.5"
  }
 },
 "nbformat": 4,
 "nbformat_minor": 4
}
