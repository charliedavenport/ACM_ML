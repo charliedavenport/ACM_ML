{
 "cells": [
  {
   "cell_type": "markdown",
   "metadata": {},
   "source": [
    "# Recurrent Neural Network to generate (predict) text data using Keras\n",
    "* LSTM (Long Short-Term Memory) Network\n",
    "* Code based on this article https://towardsdatascience.com/recurrent-neural-networks-by-example-in-python-ffd204f99470\n",
    "* Data: full text of Alice in Wonderland taken from https://archive.org/stream/alicesadventures19033gut/19033.txt"
   ]
  },
  {
   "cell_type": "code",
   "execution_count": 1,
   "metadata": {},
   "outputs": [],
   "source": [
    "from tensorflow.keras.models import Sequential\n",
    "from tensorflow.keras.layers import Dense, Dropout, Embedding, LSTM, Masking\n",
    "from tensorflow.keras.preprocessing.text import Tokenizer\n",
    "from tensorflow.keras.utils import to_categorical\n",
    "from sklearn.utils import shuffle, class_weight\n",
    "from sklearn.model_selection import train_test_split\n",
    "import numpy as np\n",
    "import matplotlib.pyplot as plt"
   ]
  },
  {
   "cell_type": "code",
   "execution_count": 2,
   "metadata": {},
   "outputs": [],
   "source": [
    "# SOURCE: https://archive.org/stream/alicesadventures19033gut/19033.txt\n",
    "text = open('Alice_in_Wonderland.txt').read().split(' ')"
   ]
  },
  {
   "cell_type": "markdown",
   "metadata": {},
   "source": [
    "# Use Tokenizer class to turn text into numeric data"
   ]
  },
  {
   "cell_type": "code",
   "execution_count": 3,
   "metadata": {},
   "outputs": [
    {
     "name": "stdout",
     "output_type": "stream",
     "text": [
      "[ 10   8 336   4  81  28 337   6 246  58]\n",
      "9732 total words\n"
     ]
    }
   ],
   "source": [
    "# set num_words to some int value to reduce size of label array, and number of params in last layer of model\n",
    "tokenizer = Tokenizer(num_words=None, char_level=False, split=' ')\n",
    "tokenizer.fit_on_texts(text)\n",
    "sequences = tokenizer.texts_to_sequences(text)\n",
    "# for some reason, tokenizer returns sequences\n",
    "flat_seq = []\n",
    "for sub_arr in sequences:\n",
    "    for item in sub_arr:\n",
    "        flat_seq.append(item)\n",
    "seq = np.array(flat_seq, dtype=np.int32)\n",
    "print(seq[:10])\n",
    "print(len(seq), 'total words')"
   ]
  },
  {
   "cell_type": "code",
   "execution_count": 4,
   "metadata": {},
   "outputs": [
    {
     "name": "stdout",
     "output_type": "stream",
     "text": [
      "1522  words in the dictionary\n",
      "['the', 'and', 'a', 'to', 'she', 'of', 'it', 'was', 'in']\n"
     ]
    }
   ],
   "source": [
    "print(len(tokenizer.index_word), ' words in the dictionary') # number of unique words\n",
    "print([tokenizer.index_word[i] for i in range(1,10)]) # first ten words in dictionary (indexing starts at 1)"
   ]
  },
  {
   "cell_type": "markdown",
   "metadata": {},
   "source": [
    "# Prepare training data and labels\n",
    "* Features (model input): 50 consecutive words from the text\n",
    "* Labels (model output): The next word in that sequence"
   ]
  },
  {
   "cell_type": "code",
   "execution_count": 5,
   "metadata": {},
   "outputs": [
    {
     "name": "stdout",
     "output_type": "stream",
     "text": [
      "(9682, 50) (9682,)\n",
      "[  2.   5. 162.  18.  21. 944. 116.   4.   1.  22.  64.  27. 352.   1.\n",
      "  22.  64.   8. 430.  53.   2.   1.  22. 256. 183.   8. 361.  20.   1.\n",
      " 182. 123.  16. 141. 374.  86. 945. 199. 224.  82.   1. 167. 610.  26.\n",
      "  12. 147.   8.  32. 227.  16.  25. 141.] 147.0\n",
      "['and', 'she', 'ran', 'with', 'all', 'speed', 'back', 'to', 'the', 'little', 'door', 'but', 'alas', 'the', 'little', 'door', 'was', 'shut', 'again', 'and', 'the', 'little', 'golden', 'key', 'was', 'lying', 'on', 'the', 'glass', 'table', 'as', 'before', 'things', 'are', 'worse', 'than', 'ever', 'thought', 'the', 'poor', 'child', 'for', 'i', 'never', 'was', 'so', 'small', 'as', 'this', 'before'] never\n"
     ]
    }
   ],
   "source": [
    "features = []\n",
    "labels = []\n",
    "\n",
    "training_len = 50\n",
    "\n",
    "for i in range(training_len, len(seq)):\n",
    "    # sub_seq has length of trainin_len + 1\n",
    "    sub_seq = seq[i-training_len : i+1]\n",
    "    features.append(sub_seq[:-1]) # all but last word\n",
    "    labels.append(sub_seq[-1]) # last word in sub-sequence\n",
    "\n",
    "# hold on to sorted data/labels for text generation after we train the model\n",
    "X_sorted, y_sorted = np.array(features, dtype=np.float32), np.array(labels, dtype=np.float32)\n",
    "# use shuffled data for training and testing\n",
    "X,y = shuffle(X_sorted, y_sorted)\n",
    "\n",
    "print(X.shape, y.shape)\n",
    "print(X[0], y[0])\n",
    "\n",
    "print([tokenizer.index_word[i] for i in X[0]], \n",
    "      tokenizer.index_word[y[0]])"
   ]
  },
  {
   "cell_type": "markdown",
   "metadata": {},
   "source": [
    "# One-Hot encoding of labels, Train/Test split\n",
    "* One-hot scheme: 3 == [0 0 0 1 0 ... 0] \n",
    "* Binary array represents class probabilities (each unique word is a class)\n",
    "* NOTE: the one-hot encoding will take up significantly more memory than the integer representation of labels. To reduce the size of the encoded labels, set the `num_words` parameter in the Tokenizer object. This will also reduce the number of parameters in the final layer"
   ]
  },
  {
   "cell_type": "code",
   "execution_count": 6,
   "metadata": {},
   "outputs": [
    {
     "name": "stdout",
     "output_type": "stream",
     "text": [
      "(7745, 50) (7745, 1523)\n",
      "(1937, 50) (1937, 1523)\n"
     ]
    }
   ],
   "source": [
    "# + 1 because word dictionary indexing starts at 1\n",
    "n_words = len(tokenizer.index_word) + 1\n",
    "\n",
    "# one-hot encoding for labels\n",
    "y_onehot = to_categorical(y, n_words)\n",
    "#print(list(y_onehot[0]).index(1), y[0]) # these two should be the same int value\n",
    "#print(y_onehot.shape)\n",
    "\n",
    "X_train, X_test, y_train, y_test = train_test_split(X, y_onehot, test_size=0.2)\n",
    "print(X_train.shape, y_train.shape)\n",
    "print(X_test.shape, y_test.shape)"
   ]
  },
  {
   "cell_type": "markdown",
   "metadata": {},
   "source": [
    "# Handling label imbalance by creating a dictionary of class weights\n",
    "* The most common words are much more common than the vast majority of less common. This leads to a network which is heavily biased towards those words, and only produces them\n",
    "* To combat this, we can assign more weight during training to instances whose labels are less common (not when testing/predicting)\n",
    "* Using keras, we can pass in a `class_weight` dictionary to the `fit()` method"
   ]
  },
  {
   "cell_type": "code",
   "execution_count": 7,
   "metadata": {},
   "outputs": [
    {
     "name": "stdout",
     "output_type": "stream",
     "text": [
      "[0.0101945  0.0191032  0.02338738 ... 6.36136662 6.36136662 6.36136662]\n"
     ]
    }
   ],
   "source": [
    "class_weights = class_weight.compute_class_weight('balanced', np.unique(y), y)\n",
    "print(class_weights)"
   ]
  },
  {
   "cell_type": "markdown",
   "metadata": {},
   "source": [
    "# Create Model: LSTM (Long Short-Term Memory) Network\n",
    "* Wikipedia: https://en.wikipedia.org/wiki/Long_short-term_memory\n",
    "* Mathematical explanation of LSTM: https://colah.github.io/posts/2015-08-Understanding-LSTMs/\n",
    "* LSTMs by example: https://towardsdatascience.com/recurrent-neural-networks-by-example-in-python-ffd204f99470"
   ]
  },
  {
   "cell_type": "code",
   "execution_count": 8,
   "metadata": {},
   "outputs": [
    {
     "name": "stdout",
     "output_type": "stream",
     "text": [
      "Model: \"sequential\"\n",
      "_________________________________________________________________\n",
      "Layer (type)                 Output Shape              Param #   \n",
      "=================================================================\n",
      "embedding (Embedding)        (None, 50, 100)           152300    \n",
      "_________________________________________________________________\n",
      "lstm (LSTM)                  (None, 512)               1255424   \n",
      "_________________________________________________________________\n",
      "dense (Dense)                (None, 1523)              781299    \n",
      "=================================================================\n",
      "Total params: 2,189,023\n",
      "Trainable params: 2,189,023\n",
      "Non-trainable params: 0\n",
      "_________________________________________________________________\n",
      "None\n"
     ]
    }
   ],
   "source": [
    "model = Sequential()\n",
    "\n",
    "# https://keras.io/layers/embeddings/\n",
    "# can reduce model complexity by pre-computing embedding matrix, setting trainable=False\n",
    "model.add(Embedding(input_dim=n_words, input_length=training_len, output_dim=100,\n",
    "                    trainable=True, mask_zero=True))\n",
    "\n",
    "# https://keras.io/layers/core/#Masking\n",
    "#model.add(Masking(mask_value=0.0))\n",
    "\n",
    "# https://keras.io/layers/recurrent/\n",
    "model.add(LSTM(512, return_sequences=False, dropout=0.5, recurrent_dropout=0.1))\n",
    "\n",
    "# fully-connected layer with dropout\n",
    "model.add(Dense(2048, activation='relu'))\n",
    "model.add(Dropout(0.5))\n",
    "\n",
    "# output layer - softmax activation for predicted class probabilities\n",
    "model.add(Dense(n_words, activation='softmax'))\n",
    "\n",
    "\n",
    "# Compile the model. Same loss function as with MNIST model (multi-class classification score)\n",
    "model.compile(optimizer='adam', loss='categorical_crossentropy', metrics=['accuracy'])\n",
    "\n",
    "print(model.summary())"
   ]
  },
  {
   "cell_type": "code",
   "execution_count": 9,
   "metadata": {},
   "outputs": [
    {
     "name": "stdout",
     "output_type": "stream",
     "text": [
      "Train on 6196 samples, validate on 1549 samples\n",
      "Epoch 1/30\n",
      "6196/6196 [==============================] - 11s 2ms/sample - loss: 6.3417 - accuracy: 0.0526 - val_loss: 6.1056 - val_accuracy: 0.0626\n",
      "Epoch 2/30\n",
      "6196/6196 [==============================] - 7s 1ms/sample - loss: 5.8952 - accuracy: 0.0644 - val_loss: 6.1247 - val_accuracy: 0.0626\n",
      "Epoch 3/30\n",
      "6196/6196 [==============================] - 7s 1ms/sample - loss: 5.8219 - accuracy: 0.0644 - val_loss: 6.1041 - val_accuracy: 0.0626\n",
      "Epoch 4/30\n",
      "6196/6196 [==============================] - 7s 1ms/sample - loss: 5.7573 - accuracy: 0.0649 - val_loss: 6.0926 - val_accuracy: 0.0620\n",
      "Epoch 5/30\n",
      "6196/6196 [==============================] - 7s 1ms/sample - loss: 5.6751 - accuracy: 0.0667 - val_loss: 6.0693 - val_accuracy: 0.0755\n",
      "Epoch 6/30\n",
      "6196/6196 [==============================] - 7s 1ms/sample - loss: 5.5810 - accuracy: 0.0755 - val_loss: 6.0030 - val_accuracy: 0.0846\n",
      "Epoch 7/30\n",
      "6196/6196 [==============================] - 7s 1ms/sample - loss: 5.4284 - accuracy: 0.0802 - val_loss: 5.9772 - val_accuracy: 0.0859\n",
      "Epoch 8/30\n",
      "6196/6196 [==============================] - 7s 1ms/sample - loss: 5.3037 - accuracy: 0.0878 - val_loss: 5.9925 - val_accuracy: 0.0749\n",
      "Epoch 9/30\n",
      "6196/6196 [==============================] - 7s 1ms/sample - loss: 5.1735 - accuracy: 0.0949 - val_loss: 5.9945 - val_accuracy: 0.0839\n",
      "Epoch 10/30\n",
      "6196/6196 [==============================] - 8s 1ms/sample - loss: 5.0397 - accuracy: 0.1051 - val_loss: 6.0132 - val_accuracy: 0.0988\n",
      "Epoch 11/30\n",
      "6196/6196 [==============================] - 7s 1ms/sample - loss: 4.8905 - accuracy: 0.1185 - val_loss: 6.0520 - val_accuracy: 0.0884\n",
      "Epoch 12/30\n",
      "6196/6196 [==============================] - 7s 1ms/sample - loss: 4.7383 - accuracy: 0.1322 - val_loss: 6.0763 - val_accuracy: 0.1014\n",
      "Epoch 13/30\n",
      "6196/6196 [==============================] - 7s 1ms/sample - loss: 4.5684 - accuracy: 0.1407 - val_loss: 6.1252 - val_accuracy: 0.1052\n",
      "Epoch 14/30\n",
      "6196/6196 [==============================] - 7s 1ms/sample - loss: 4.4020 - accuracy: 0.1504 - val_loss: 6.1322 - val_accuracy: 0.0949\n",
      "Epoch 15/30\n",
      "6196/6196 [==============================] - 7s 1ms/sample - loss: 4.2204 - accuracy: 0.1661 - val_loss: 6.1958 - val_accuracy: 0.1052\n",
      "Epoch 16/30\n",
      "6196/6196 [==============================] - 7s 1ms/sample - loss: 4.0293 - accuracy: 0.1835 - val_loss: 6.2321 - val_accuracy: 0.1014\n",
      "Epoch 17/30\n",
      "6196/6196 [==============================] - 7s 1ms/sample - loss: 3.8596 - accuracy: 0.1934 - val_loss: 6.3040 - val_accuracy: 0.0975\n",
      "Epoch 18/30\n",
      "6196/6196 [==============================] - 7s 1ms/sample - loss: 3.6881 - accuracy: 0.2176 - val_loss: 6.3377 - val_accuracy: 0.0981\n",
      "Epoch 19/30\n",
      "6196/6196 [==============================] - 8s 1ms/sample - loss: 3.5073 - accuracy: 0.2439 - val_loss: 6.4227 - val_accuracy: 0.0917\n",
      "Epoch 20/30\n",
      "6196/6196 [==============================] - 7s 1ms/sample - loss: 3.3324 - accuracy: 0.2660 - val_loss: 6.4637 - val_accuracy: 0.0968\n",
      "Epoch 21/30\n",
      "6196/6196 [==============================] - 7s 1ms/sample - loss: 3.1533 - accuracy: 0.3013 - val_loss: 6.5108 - val_accuracy: 0.1007\n",
      "Epoch 22/30\n",
      "6196/6196 [==============================] - 7s 1ms/sample - loss: 2.9870 - accuracy: 0.3352 - val_loss: 6.5762 - val_accuracy: 0.0930\n",
      "Epoch 23/30\n",
      "6196/6196 [==============================] - 7s 1ms/sample - loss: 2.8295 - accuracy: 0.3680 - val_loss: 6.6462 - val_accuracy: 0.0962\n",
      "Epoch 24/30\n",
      "6196/6196 [==============================] - 8s 1ms/sample - loss: 2.6707 - accuracy: 0.3983 - val_loss: 6.6944 - val_accuracy: 0.0949\n",
      "Epoch 25/30\n",
      "6196/6196 [==============================] - 6s 1ms/sample - loss: 2.5239 - accuracy: 0.4375 - val_loss: 6.7665 - val_accuracy: 0.0962\n",
      "Epoch 26/30\n",
      "6196/6196 [==============================] - 7s 1ms/sample - loss: 2.3819 - accuracy: 0.4669 - val_loss: 6.8310 - val_accuracy: 0.0852\n",
      "Epoch 27/30\n",
      "6196/6196 [==============================] - 7s 1ms/sample - loss: 2.2439 - accuracy: 0.5082 - val_loss: 6.8891 - val_accuracy: 0.0859\n",
      "Epoch 28/30\n",
      "6196/6196 [==============================] - 7s 1ms/sample - loss: 2.1060 - accuracy: 0.5395 - val_loss: 6.9511 - val_accuracy: 0.0865\n",
      "Epoch 29/30\n",
      "6196/6196 [==============================] - 7s 1ms/sample - loss: 1.9848 - accuracy: 0.5662 - val_loss: 6.9400 - val_accuracy: 0.0839\n",
      "Epoch 30/30\n",
      "6196/6196 [==============================] - 7s 1ms/sample - loss: 1.9214 - accuracy: 0.5838 - val_loss: 7.0242 - val_accuracy: 0.0852\n"
     ]
    }
   ],
   "source": [
    "# need to train for many more epochs to get good results. \n",
    "# model will train faster if we use pre-trained embeddings. \n",
    "# When using pre-trained embeddings, have to make sure embeddings were trained on task similar to ours\n",
    "hist = model.fit(X_train, y_train, batch_size=128, epochs=30, class_weight=class_weights, validation_split=0.2)"
   ]
  },
  {
   "cell_type": "code",
   "execution_count": 10,
   "metadata": {},
   "outputs": [],
   "source": [
    "scores = model.evaluate(X_test, y_test, batch_size=128, verbose=0) \n",
    "# bugged output? Displays way too many '=' in progress bar when verbose=1"
   ]
  },
  {
   "cell_type": "code",
   "execution_count": 11,
   "metadata": {},
   "outputs": [
    {
     "name": "stdout",
     "output_type": "stream",
     "text": [
      "[7.05083930055444, 0.097057305]\n"
     ]
    }
   ],
   "source": [
    "print(scores)\n",
    "# random guessing accuracy = 1/1523 = 0.00065659"
   ]
  },
  {
   "cell_type": "code",
   "execution_count": 14,
   "metadata": {},
   "outputs": [
    {
     "data": {
      "image/png": "[encoded data removed]",
      "text/plain": [
       "<Figure size 576x396 with 1 Axes>"
      ]
     },
     "metadata": {},
     "output_type": "display_data"
    },
    {
     "data": {
      "image/png": "[encoded data removed]",
      "text/plain": [
       "<Figure size 576x396 with 1 Axes>"
      ]
     },
     "metadata": {},
     "output_type": "display_data"
    }
   ],
   "source": [
    "plt.style.use('seaborn')\n",
    "\n",
    "plt.plot(hist.history['accuracy'])\n",
    "plt.plot(hist.history['val_accuracy'])\n",
    "plt.legend(['train accuracy', 'val accuracy'])\n",
    "plt.show()\n",
    "\n",
    "plt.plot(hist.history['loss'])\n",
    "plt.plot(hist.history['val_loss'])\n",
    "plt.legend(['train loss', 'val loss'])\n",
    "plt.show()"
   ]
  },
  {
   "cell_type": "markdown",
   "metadata": {},
   "source": [
    "# Use trained model to predict next word"
   ]
  },
  {
   "cell_type": "code",
   "execution_count": 13,
   "metadata": {},
   "outputs": [
    {
     "name": "stdout",
     "output_type": "stream",
     "text": [
      "Seed Sequence: \n",
      "\"she heard a little pattering of feet in the distance and she hastily dried her eyes to see what was coming it was the white rabbit returning splendidly dressed with a pair of white kid gloves in one hand and a large fan in the other he came trotting along\"\n",
      "\n",
      "Predicted next 50 words: \n",
      "\"and the the the hatter the every witness and king as of she of like half voice wish she and of said of was thing a was telescope they whilst a you cross of mouse of the tried the little evidence march to and as and little the it a\"\n",
      "\n",
      "Actual next 50 words: \n",
      "\"in a great hurry muttering to himself oh the duchess the duchess oh won't she be savage if i've kept her waiting when the rabbit came near her alice began in a low timid voice if you please sir the rabbit started violently dropped the white kid gloves and the\"\n"
     ]
    }
   ],
   "source": [
    "rand_ind = np.random.randint(len(X_test)-training_len)\n",
    "#rand_ind = 0 # uncomment to specify a start index\n",
    "\n",
    "seed_seq = X_sorted[rand_ind]\n",
    "actual_seq = y_sorted[rand_ind : rand_ind+training_len]\n",
    "\n",
    "pred_seq = np.empty((training_len,))\n",
    "for i in range(training_len):\n",
    "    pred_seq[i] = np.argmax(model.predict(np.expand_dims(X_test[rand_ind+i, :], axis=0))[0])\n",
    "    \n",
    "\n",
    "print('Seed Sequence: ')\n",
    "print('\\\"' + ' '.join([tokenizer.index_word[i] for i in seed_seq]) + '\\\"')\n",
    "print('\\nPredicted next 50 words: ')\n",
    "print('\\\"' + ' '.join([tokenizer.index_word[i] for i in pred_seq]) + '\\\"')\n",
    "print('\\nActual next 50 words: ')\n",
    "print('\\\"' + ' '.join([tokenizer.index_word[i] for i in actual_seq]) + '\\\"')"
   ]
  },
  {
   "cell_type": "code",
   "execution_count": null,
   "metadata": {},
   "outputs": [],
   "source": []
  },
  {
   "cell_type": "markdown",
   "metadata": {},
   "source": [
    "# Conclusion: NLP is hard :("
   ]
  }
 ],
 "metadata": {
  "kernelspec": {
   "display_name": "Python 3",
   "language": "python",
   "name": "python3"
  },
  "language_info": {
   "codemirror_mode": {
    "name": "ipython",
    "version": 3
   },
   "file_extension": ".py",
   "mimetype": "text/x-python",
   "name": "python",
   "nbconvert_exporter": "python",
   "pygments_lexer": "ipython3",
   "version": "3.7.5"
  }
 },
 "nbformat": 4,
 "nbformat_minor": 4
}
