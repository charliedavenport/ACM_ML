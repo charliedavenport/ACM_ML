{
 "cells": [
  {
   "cell_type": "markdown",
   "metadata": {},
   "source": [
    "# Linear Regression with TensorFlow low-level API"
   ]
  },
  {
   "cell_type": "code",
   "execution_count": 1,
   "metadata": {},
   "outputs": [],
   "source": [
    "from __future__ import print_function, division\n",
    "\n",
    "import tensorflow as tf\n",
    "import numpy as np\n",
    "import pandas as pd\n",
    "import matplotlib.pyplot as plt\n",
    "\n",
    "from sklearn.datasets import load_boston\n",
    "from sklearn.preprocessing import StandardScaler\n",
    "from datetime import datetime\n",
    "from IPython.display import display"
   ]
  },
  {
   "cell_type": "code",
   "execution_count": 2,
   "metadata": {},
   "outputs": [
    {
     "name": "stdout",
     "output_type": "stream",
     "text": [
      "(506, 13)\n",
      "(506,)\n"
     ]
    }
   ],
   "source": [
    "boston = load_boston()\n",
    "print(boston.data.shape)\n",
    "print(boston.target.shape)"
   ]
  },
  {
   "cell_type": "markdown",
   "metadata": {},
   "source": [
    "### features are all different scales -> use StandardScalar"
   ]
  },
  {
   "cell_type": "code",
   "execution_count": 3,
   "metadata": {},
   "outputs": [],
   "source": [
    "# the DataFrame.describe() method is very useful!\n",
    "pd.DataFrame(boston.data).describe()\n",
    "\n",
    "# shifts and scales data so that Mean = 0 and Stddev = 1\n",
    "data_scaled = StandardScaler().fit_transform(boston.data)"
   ]
  },
  {
   "cell_type": "markdown",
   "metadata": {},
   "source": [
    "# Linear Regression with Batch Gradient Descent\n",
    "\n",
    "$$\\large{\\hat{y}_i = w_0 + w_1 x_1 + w_2 x_2 + \\ldots + w_n x_n }$$\n",
    "\n",
    "* $\\hat{y}_i$ is the i-th predicted target value\n",
    "* $n$ is the number of features\n",
    "* $x_i$ is the i-th feature value (we'll add an $x_0 = 1$ term to every sample so we can represent this as a single dot product)\n",
    "* $w_i$ is the i-th paramter value, $w_0$ is the bias term\n",
    "\n",
    "### Vectorized form\n",
    "\n",
    "$$\\large{\\hat{y}_i = \\vec{x}_i \\cdot \\vec{w} }$$\n",
    "\n",
    "### Loss Function: Mean Squared Error (MSE)\n",
    "\n",
    "$$\\large{\\text{MSE}(\\mathbf{X},\\vec{w}) = \\frac{1}{m} \\sum_{i=1}^{m} (\\hat{y}_i - y_i)^2 }$$"
   ]
  },
  {
   "cell_type": "code",
   "execution_count": 4,
   "metadata": {},
   "outputs": [
    {
     "name": "stdout",
     "output_type": "stream",
     "text": [
      "506 samples; 13 features\n"
     ]
    }
   ],
   "source": [
    "n_samples, n_features = data_scaled.shape\n",
    "print('{0} samples; {1} features'.format(n_samples, n_features))\n",
    "\n",
    "# add a bias column of 1's\n",
    "data_scaled_bias = np.concatenate((np.ones([n_samples,1]), \n",
    "                                   data_scaled), axis=1)\n",
    "\n",
    "learn_rate = 0.05"
   ]
  },
  {
   "cell_type": "code",
   "execution_count": 5,
   "metadata": {},
   "outputs": [],
   "source": [
    "# tf.constant - source op that outputs a constant value\n",
    "X = tf.constant(data_scaled_bias, name='data', dtype=tf.float32)\n",
    "y = tf.constant(np.expand_dims(boston.target, axis=1), \n",
    "                name='target', dtype=tf.float32)\n",
    "# tf.Variable - holds our weights + biases. Randomly initialized\n",
    "# Updated on every gradient step using the assign op\n",
    "w = tf.Variable(tf.random_uniform([n_features + 1, 1], -1.0,1.0), \n",
    "                name='weights', dtype=tf.float32)\n",
    "y_pred = tf.matmul(X, w)\n",
    "\n",
    "# MSE Loss function\n",
    "error = y_pred - y\n",
    "mse = tf.reduce_mean(tf.square(error), name='loss')\n",
    "\n",
    "# manually computing gradients - hardcoded for our particular loss function\n",
    "mse_grads = 2/n_samples * tf.matmul(tf.transpose(X), error)\n",
    "\n",
    "# update our weights vector using an assign op\n",
    "train_op = tf.assign(w, w - learn_rate * mse_grads)\n",
    "\n",
    "init = tf.global_variables_initializer()"
   ]
  },
  {
   "cell_type": "markdown",
   "metadata": {},
   "source": [
    "# Start a Graph Session and run our training operation"
   ]
  },
  {
   "cell_type": "code",
   "execution_count": 6,
   "metadata": {},
   "outputs": [
    {
     "name": "stdout",
     "output_type": "stream",
     "text": [
      "ep 0; mse=479.790924072\n",
      "ep 10; mse=78.9160690308\n",
      "ep 20; mse=30.3880634308\n",
      "ep 30; mse=24.075170517\n",
      "ep 40; mse=23.0286197662\n",
      "ep 50; mse=22.7060890198\n",
      "ep 60; mse=22.5251426697\n",
      "ep 70; mse=22.3977909088\n",
      "ep 80; mse=22.3025341034\n",
      "ep 90; mse=22.2295455933\n"
     ]
    }
   ],
   "source": [
    "n_epoch = 100\n",
    "train_loss = []\n",
    "\n",
    "with tf.Session() as sess:\n",
    "    init.run()\n",
    "    for ep in range(n_epoch):\n",
    "        sess.run(train_op)\n",
    "        # print out the loss every 10 epochs\n",
    "        if (ep % 10 == 0):\n",
    "            print('ep {0}; mse={1}'.format(ep, mse.eval()))\n",
    "        train_loss.append(mse.eval())"
   ]
  },
  {
   "cell_type": "code",
   "execution_count": 7,
   "metadata": {},
   "outputs": [
    {
     "data": {
      "image/png": "[encoded data removed]",
      "text/plain": [
       "<Figure size 432x288 with 1 Axes>"
      ]
     },
     "metadata": {},
     "output_type": "display_data"
    }
   ],
   "source": [
    "plt.style.use('dark_background')\n",
    "plt.plot(range(n_epoch), train_loss, 'r')\n",
    "plt.xlabel('Training Epoch')\n",
    "plt.ylabel('Mean Squared Error')\n",
    "plt.title('Training Loss (MSE)')\n",
    "plt.show()"
   ]
  },
  {
   "cell_type": "code",
   "execution_count": null,
   "metadata": {},
   "outputs": [],
   "source": []
  }
 ],
 "metadata": {
  "kernelspec": {
   "display_name": "Python 3",
   "language": "python",
   "name": "python3"
  },
  "language_info": {
   "codemirror_mode": {
    "name": "ipython",
    "version": 3
   },
   "file_extension": ".py",
   "mimetype": "text/x-python",
   "name": "python",
   "nbconvert_exporter": "python",
   "pygments_lexer": "ipython3",
   "version": "3.6.5"
  }
 },
 "nbformat": 4,
 "nbformat_minor": 2
}
