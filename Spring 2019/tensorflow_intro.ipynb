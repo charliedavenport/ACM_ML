{
 "cells": [
  {
   "cell_type": "markdown",
   "metadata": {},
   "source": [
    "# TensorFlow low-level API"
   ]
  },
  {
   "cell_type": "code",
   "execution_count": 1,
   "metadata": {},
   "outputs": [],
   "source": [
    "import tensorflow as tf\n",
    "import numpy as np"
   ]
  },
  {
   "cell_type": "markdown",
   "metadata": {},
   "source": [
    "# Operations\n",
    "\n",
    "https://www.tensorflow.org/api_docs/python/tf/Operation\n",
    "\n",
    "**Operations (ops) are the nodes of our graph.** They take in Tensor objects as input, and produce Tensor objects as output. Ops represent our inputs, variables, and operations such as matrix multiplication (tf.matmul) and activation functions (e.g. tf.nn.relu). Additionally, common operators such as ```*```, ```+```, and ```-``` are overloaded with tf.Operations. Once a Graph has been launched in a tf.Session, we can run our ops, by calling ```tf.Session().run(my_op)``` or ```my_op.run()```\n",
    "\n",
    "# Tensors\n",
    "\n",
    "https://www.tensorflow.org/api_docs/python/tf/Tensor\n",
    "\n",
    "**Tensors are the edges of our graph.** A tf.Tensor object represents the output of a TensorFlow operation. We construct our data-flow graph by connecting the output of one op to the input of another. A Tensor represents a multidimensional array, but does not itself hold a value. Rather, it provides a means to compute the value in a graph session. The result of evaluating a Tensor object is a numpy array. We get this result by calling ```tf.Session().run(my_tensor)``` or by calling ```my_tensor.eval()```\n",
    "\n",
    "# Variables \n",
    "\n",
    "https://www.tensorflow.org/api_docs/python/tf/Variable\n",
    "\n",
    "A tf.Variable op represents a Tensor whose value can be changed during graph session. We can assign a value by calling the ```assign()``` method. When we declare our variable, we pass in an initial value, which is a Tensor of any type and shape. Just like any Tensor, variables created with Variable() can be used as inputs for other Ops in the graph. **Variables must be initialized before you can call an op that uses their value.** Every variable object contains an initializer op, which we'll run at the beginning of a graph session.\n",
    "\n",
    "In practice, we will use a tf.Variable node to store our weights and biases."
   ]
  },
  {
   "cell_type": "code",
   "execution_count": 5,
   "metadata": {},
   "outputs": [],
   "source": [
    "# define our data-flow graph. Represents the computation f(x,y) = x^2 + y + 2\n",
    "\n",
    "x = tf.Variable(3.0, dtype=tf.float32) # pass in initial value and type\n",
    "y = tf.Variable(4.0, dtype=tf.float32)\n",
    "\n",
    "f = x*x + y + 2"
   ]
  },
  {
   "cell_type": "markdown",
   "metadata": {},
   "source": [
    "# Run the graph"
   ]
  },
  {
   "cell_type": "code",
   "execution_count": 6,
   "metadata": {},
   "outputs": [
    {
     "name": "stdout",
     "output_type": "stream",
     "text": [
      "15.0\n"
     ]
    }
   ],
   "source": [
    "sess = tf.Session() # create graph session\n",
    "\n",
    "sess.run(x.initializer) # initialize variables one by one\n",
    "sess.run(y.initializer)\n",
    "result = sess.run(f) # evaluate f and return a value\n",
    "\n",
    "print(result)"
   ]
  },
  {
   "cell_type": "markdown",
   "metadata": {},
   "source": [
    "## Less Cumbersome Syntax\n",
    "\n",
    "Instead of initializing variables individually, we can call the global_variables_initializer op to init them all at once. We also use a ```with``` statement to set our tf.Session as default. This lets us use shortcuts like ```f.eval()``` instead of ```sess.run(f)```"
   ]
  },
  {
   "cell_type": "code",
   "execution_count": 7,
   "metadata": {},
   "outputs": [
    {
     "name": "stdout",
     "output_type": "stream",
     "text": [
      "15.0\n"
     ]
    }
   ],
   "source": [
    "init = tf.global_variables_initializer() # initialize all variables at once\n",
    "\n",
    "with tf.Session() as sess: # set current session as default\n",
    "    init.run() # equivalent to sess.run(init)\n",
    "    result = f.eval() # equivalent to sess.run(f)\n",
    "print(result)"
   ]
  }
 ],
 "metadata": {
  "kernelspec": {
   "display_name": "Python 3",
   "language": "python",
   "name": "python3"
  },
  "language_info": {
   "codemirror_mode": {
    "name": "ipython",
    "version": 3
   },
   "file_extension": ".py",
   "mimetype": "text/x-python",
   "name": "python",
   "nbconvert_exporter": "python",
   "pygments_lexer": "ipython3",
   "version": "3.6.5"
  }
 },
 "nbformat": 4,
 "nbformat_minor": 2
}
