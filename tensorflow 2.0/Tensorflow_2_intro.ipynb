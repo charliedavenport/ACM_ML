{
 "cells": [
  {
   "cell_type": "code",
   "execution_count": 1,
   "metadata": {},
   "outputs": [
    {
     "name": "stderr",
     "output_type": "stream",
     "text": [
      "C:\\ProgramData\\Anaconda3\\lib\\site-packages\\h5py\\__init__.py:36: FutureWarning: Conversion of the second argument of issubdtype from `float` to `np.floating` is deprecated. In future, it will be treated as `np.float64 == np.dtype(float).type`.\n",
      "  from ._conv import register_converters as _register_converters\n"
     ]
    }
   ],
   "source": [
    "import tensorflow as tf\n",
    "import numpy as np"
   ]
  },
  {
   "cell_type": "code",
   "execution_count": 29,
   "metadata": {},
   "outputs": [
    {
     "name": "stdout",
     "output_type": "stream",
     "text": [
      "2.0.0\n"
     ]
    }
   ],
   "source": [
    "print(tf.__version__)"
   ]
  },
  {
   "cell_type": "markdown",
   "metadata": {},
   "source": [
    "If you don't see '2.0.x', then try running `conda upgrade tensorflow` in your anaconda prompt"
   ]
  },
  {
   "cell_type": "markdown",
   "metadata": {},
   "source": [
    "# Operations\n",
    "\n",
    "https://www.tensorflow.org/api_docs/python/tf/Operation\n",
    "\n",
    "**Operations (ops) are the nodes of our graph.** They take in Tensor objects as input, and produce Tensor objects as output. Ops represent our inputs, variables, and operations such as matrix multiplication (tf.matmul) and activation functions (e.g. tf.nn.relu). Additionally, common operators such as ```*```, ```+```, and ```-``` are overloaded with tf.Operations. ~~Once a Graph has been launched in a tf.Session, we can run our ops, by calling ```tf.Session().run(my_op)``` or ```my_op.run()```~~ (Using Eager Execution, operations return concrete values instead of constructing a computational graph to run later.)\n",
    "\n",
    "# Tensors\n",
    "\n",
    "https://www.tensorflow.org/api_docs/python/tf/Tensor\n",
    "\n",
    "**Tensors are the edges of our graph.** A tf.Tensor object represents the output of a TensorFlow operation. We construct our data-flow graph by connecting the output of one op to the input of another. A Tensor represents a multidimensional array, ~~but does not itself hold a value. Rather, it provides a means to compute the value in a graph session. The result of evaluating a Tensor object is a numpy array. We get this result by calling ```tf.Session().run(my_tensor)``` or by calling ```my_tensor.eval()```~~ (With eager execution enabled by default, tensors will hold a value as soon as they are declared. Eager Execution can be disabled for the default tf 1.9 functionality.)\n",
    "\n",
    "# Variables \n",
    "\n",
    "https://www.tensorflow.org/api_docs/python/tf/Variable\n",
    "\n",
    "A tf.Variable op represents a Tensor whose value can be changed during graph session. We can assign a value by calling the ```assign()``` method. When we declare our variable, we pass in an initial value, which is a Tensor of any type and shape. Just like any Tensor, variables created with Variable() can be used as inputs for other Ops in the graph. ~~**Variables must be initialized before you can call an op that uses their value.**~~ (Variables are initialized automatically in tf 2.0) Every variable object contains an initializer op, which ~~we'll run at the beginning of a graph session.~~ (is run automatically)\n",
    "\n",
    "In practice, we will use a tf.Variable node to store our weights and biases."
   ]
  },
  {
   "cell_type": "code",
   "execution_count": 26,
   "metadata": {},
   "outputs": [
    {
     "name": "stdout",
     "output_type": "stream",
     "text": [
      "tf.Tensor(15.0, shape=(), dtype=float32)\n",
      "15.0\n",
      "15.0\n"
     ]
    }
   ],
   "source": [
    "x = tf.Variable(3.0) # pass in initial value\n",
    "y = tf.Variable(4.0) # type and size inferred from initial value\n",
    "\n",
    "f = x*x + y + 2 # python operators automatically converted to tf ops\n",
    "\n",
    "print(f) # Eager Execution: new feature of TF 2.0\n",
    "         # no need to crate graph session like in TF 1.x \n",
    "print(f.numpy()) # convert Tensor object to numpy array or scalar\n",
    "\n",
    "# assign op can change variable values\n",
    "x.assign(2.0)\n",
    "y.assign(5.0)\n",
    "\n",
    "# eager execution: need to redefine f to get a new result\n",
    "#f = x*x + y + 2\n",
    "print(f.numpy())\n"
   ]
  },
  {
   "cell_type": "code",
   "execution_count": 28,
   "metadata": {},
   "outputs": [
    {
     "name": "stdout",
     "output_type": "stream",
     "text": [
      "tf.Tensor(11.0, shape=(), dtype=float32)\n",
      "tf.Tensor(15.0, shape=(), dtype=float32)\n"
     ]
    }
   ],
   "source": [
    "# alternative: use functions to return new tensors\n",
    "def tensor_func(a, b):\n",
    "    return a*a + b + 2\n",
    "\n",
    "x.assign(2.0)\n",
    "y.assign(5.0)\n",
    "print(tensor_func(x,y))\n",
    "x.assign(3.0)\n",
    "y.assign(4.0)\n",
    "print(tensor_func(x,y))"
   ]
  },
  {
   "cell_type": "code",
   "execution_count": null,
   "metadata": {},
   "outputs": [],
   "source": []
  },
  {
   "cell_type": "code",
   "execution_count": null,
   "metadata": {},
   "outputs": [],
   "source": []
  },
  {
   "cell_type": "code",
   "execution_count": null,
   "metadata": {},
   "outputs": [],
   "source": []
  }
 ],
 "metadata": {
  "kernelspec": {
   "display_name": "Python 3",
   "language": "python",
   "name": "python3"
  },
  "language_info": {
   "codemirror_mode": {
    "name": "ipython",
    "version": 3
   },
   "file_extension": ".py",
   "mimetype": "text/x-python",
   "name": "python",
   "nbconvert_exporter": "python",
   "pygments_lexer": "ipython3",
   "version": "3.6.5"
  }
 },
 "nbformat": 4,
 "nbformat_minor": 2
}
