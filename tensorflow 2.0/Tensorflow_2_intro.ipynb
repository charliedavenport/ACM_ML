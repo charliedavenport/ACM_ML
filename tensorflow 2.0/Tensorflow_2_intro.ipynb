{
 "cells": [
  {
   "cell_type": "code",
   "execution_count": 1,
   "metadata": {},
   "outputs": [
    {
     "name": "stderr",
     "output_type": "stream",
     "text": [
      "C:\\ProgramData\\Anaconda3\\lib\\site-packages\\h5py\\__init__.py:36: FutureWarning: Conversion of the second argument of issubdtype from `float` to `np.floating` is deprecated. In future, it will be treated as `np.float64 == np.dtype(float).type`.\n",
      "  from ._conv import register_converters as _register_converters\n"
     ]
    }
   ],
   "source": [
    "import tensorflow as tf\n",
    "import numpy as np"
   ]
  },
  {
   "cell_type": "code",
   "execution_count": 2,
   "metadata": {},
   "outputs": [
    {
     "name": "stdout",
     "output_type": "stream",
     "text": [
      "2.0.0\n"
     ]
    }
   ],
   "source": [
    "print(tf.__version__)"
   ]
  },
  {
   "cell_type": "markdown",
   "metadata": {},
   "source": [
    "If you don't see '2.0.x', then try running `conda upgrade tensorflow` in your anaconda prompt"
   ]
  },
  {
   "cell_type": "code",
   "execution_count": 14,
   "metadata": {},
   "outputs": [
    {
     "name": "stdout",
     "output_type": "stream",
     "text": [
      "tf.Tensor(15.0, shape=(), dtype=float32)\n",
      "15.0\n",
      "15.0\n"
     ]
    }
   ],
   "source": [
    "x = tf.Variable(3.0) # pass in initial value\n",
    "y = tf.Variable(4.0) # type and size inferred from initial value\n",
    "\n",
    "f = x*x + y + 2 # python operators automatically converted to tf ops\n",
    "\n",
    "print(f) # Eager Execution: new feature of TF 2.0\n",
    "         # no need to crate graph session like in TF 1.x \n",
    "print(f.numpy()) # convert Tensor object to numpy array or scalar\n",
    "\n",
    "# assign op can change variable values\n",
    "x.assign(2.0)\n",
    "y.assign(5.0)\n",
    "\n",
    "# eager execution: need to redefine f to get a new result\n",
    "#f = x*x + y + 2\n",
    "print(f.numpy())\n"
   ]
  },
  {
   "cell_type": "markdown",
   "metadata": {},
   "source": [
    "# Linear Regression using TensorFlow core"
   ]
  },
  {
   "cell_type": "code",
   "execution_count": 15,
   "metadata": {},
   "outputs": [],
   "source": [
    "# see: 03_Linear_Regression.ipynb\n",
    "X = 2 * np.random.rand(100, 1)\n",
    "y = 4 + 3 * X + np.random.randn(100, 1) \n",
    "X_b = np.c_[np.ones((100,1)), X]\n",
    "\n",
    "n_samples, n_features = X.shape\n",
    "learn_rate = 0.05"
   ]
  },
  {
   "cell_type": "code",
   "execution_count": 18,
   "metadata": {},
   "outputs": [],
   "source": [
    "X = tf.constant(X_b, name='data', dtype=tf.float32)\n",
    "y = tf.constant(y, name='target', dtype=tf.float32)\n",
    "# tf.Variable - holds our weights + biases. Randomly initialized\n",
    "# Updated on every gradient step using the assign op\n",
    "w = tf.Variable(tf.random.uniform([n_features + 1, 1], -1.0,1.0), \n",
    "                name='weights', dtype=tf.float32)\n",
    "y_pred = tf.matmul(X, w)\n",
    "\n",
    "# MSE Loss function\n",
    "error = y_pred - y\n",
    "mse = tf.reduce_mean(tf.square(error), name='loss')\n",
    "\n",
    "# manually computing gradients - hardcoded for our particular loss function\n",
    "mse_grads = 2/n_samples * tf.matmul(tf.transpose(X), error)\n",
    "\n",
    "# update our weights vector using an assign op\n",
    "train_op = w.assign(w - learn_rate * mse_grads)"
   ]
  },
  {
   "cell_type": "code",
   "execution_count": 21,
   "metadata": {},
   "outputs": [
    {
     "data": {
      "text/plain": [
       "<tf.Tensor: id=298, shape=(100, 1), dtype=float32, numpy=\n",
       "array([[-0.71113825],\n",
       "       [ 0.46988386],\n",
       "       [ 0.13230199],\n",
       "       [ 0.37254202],\n",
       "       [-0.42495012],\n",
       "       [-0.5287419 ],\n",
       "       [ 0.43590394],\n",
       "       [ 0.16565743],\n",
       "       [-0.43027598],\n",
       "       [-0.27534044],\n",
       "       [-0.42824674],\n",
       "       [-0.30268067],\n",
       "       [ 0.08758876],\n",
       "       [-0.06248391],\n",
       "       [-0.55804574],\n",
       "       [ 0.25071192],\n",
       "       [ 0.43993193],\n",
       "       [ 0.32114178],\n",
       "       [-0.14246613],\n",
       "       [-0.83243227],\n",
       "       [ 0.03030345],\n",
       "       [-0.526747  ],\n",
       "       [-0.33794183],\n",
       "       [ 0.22960772],\n",
       "       [-0.5588056 ],\n",
       "       [ 0.05283344],\n",
       "       [-0.2494337 ],\n",
       "       [-0.8084003 ],\n",
       "       [ 0.1940346 ],\n",
       "       [-0.84013796],\n",
       "       [-0.31863505],\n",
       "       [ 0.3422206 ],\n",
       "       [-0.36572987],\n",
       "       [-0.0166181 ],\n",
       "       [-0.22005153],\n",
       "       [-0.06294674],\n",
       "       [ 0.23927231],\n",
       "       [-0.360097  ],\n",
       "       [-0.5531659 ],\n",
       "       [-0.01572162],\n",
       "       [-0.20566863],\n",
       "       [ 0.03459308],\n",
       "       [-0.6447414 ],\n",
       "       [ 0.35403463],\n",
       "       [-0.06237054],\n",
       "       [-0.16568327],\n",
       "       [-0.72917664],\n",
       "       [ 0.12399241],\n",
       "       [-0.51375884],\n",
       "       [-0.20362055],\n",
       "       [-0.5125253 ],\n",
       "       [-0.48640692],\n",
       "       [-0.15274376],\n",
       "       [-0.44397938],\n",
       "       [-0.4451509 ],\n",
       "       [-0.11189735],\n",
       "       [ 0.370979  ],\n",
       "       [-0.25520605],\n",
       "       [-0.6179178 ],\n",
       "       [-0.18048859],\n",
       "       [-0.80225444],\n",
       "       [ 0.3165517 ],\n",
       "       [-0.16430974],\n",
       "       [-0.278014  ],\n",
       "       [-0.55119205],\n",
       "       [-0.76141167],\n",
       "       [ 0.15777835],\n",
       "       [ 0.34636676],\n",
       "       [-0.4695137 ],\n",
       "       [-0.82402444],\n",
       "       [ 0.24569178],\n",
       "       [ 0.33890104],\n",
       "       [-0.7910571 ],\n",
       "       [-0.19831628],\n",
       "       [-0.4017465 ],\n",
       "       [ 0.3582867 ],\n",
       "       [-0.4986384 ],\n",
       "       [-0.3163721 ],\n",
       "       [-0.08219892],\n",
       "       [-0.7971871 ],\n",
       "       [-0.6251378 ],\n",
       "       [ 0.32556534],\n",
       "       [-0.38603383],\n",
       "       [ 0.12089074],\n",
       "       [-0.6732837 ],\n",
       "       [-0.5655509 ],\n",
       "       [-0.00866288],\n",
       "       [ 0.4142012 ],\n",
       "       [ 0.11679822],\n",
       "       [-0.86330056],\n",
       "       [-0.47409195],\n",
       "       [ 0.04493228],\n",
       "       [-0.30070913],\n",
       "       [-0.5221026 ],\n",
       "       [ 0.05202812],\n",
       "       [ 0.16915691],\n",
       "       [ 0.29330426],\n",
       "       [-0.30809623],\n",
       "       [-0.48802865],\n",
       "       [ 0.04395995]], dtype=float32)>"
      ]
     },
     "execution_count": 21,
     "metadata": {},
     "output_type": "execute_result"
    }
   ],
   "source": [
    "y_pred"
   ]
  },
  {
   "cell_type": "code",
   "execution_count": null,
   "metadata": {},
   "outputs": [],
   "source": []
  }
 ],
 "metadata": {
  "kernelspec": {
   "display_name": "Python 3",
   "language": "python",
   "name": "python3"
  },
  "language_info": {
   "codemirror_mode": {
    "name": "ipython",
    "version": 3
   },
   "file_extension": ".py",
   "mimetype": "text/x-python",
   "name": "python",
   "nbconvert_exporter": "python",
   "pygments_lexer": "ipython3",
   "version": "3.6.5"
  }
 },
 "nbformat": 4,
 "nbformat_minor": 2
}
