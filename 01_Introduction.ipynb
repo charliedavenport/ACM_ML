{
 "cells": [
  {
   "cell_type": "markdown",
   "metadata": {},
   "source": [
    "# Welcome to the ACM Machine Learning Subcommittee! \n",
    "\n",
    "Python libraries we will be using:\n",
    "\n",
    "* Numpy \n",
    "    - store and manipulate numerical data efficiently\n",
    "* Scikit-Learn \n",
    "    - training and evaluating models\n",
    "    - Fetching datasets\n",
    "* Matplotlib \n",
    "     - pretty pictures\n",
    "     - pyplot - MATLAB-like syntax in python"
   ]
  },
  {
   "cell_type": "code",
   "execution_count": 1,
   "metadata": {},
   "outputs": [],
   "source": [
    "import numpy as np\n",
    "import pandas as pd\n",
    "import sklearn\n",
    "import matplotlib.pyplot as plt"
   ]
  },
  {
   "cell_type": "markdown",
   "metadata": {},
   "source": [
    "# Python 3 Basics\n",
    "\n",
    "## Lists [ ]\n",
    "\n",
    "* https://docs.python.org/3/tutorial/datastructures.html#"
   ]
  },
  {
   "cell_type": "code",
   "execution_count": 5,
   "metadata": {},
   "outputs": [
    {
     "name": "stdout",
     "output_type": "stream",
     "text": [
      "[1, 3.14, 'hello']\n",
      "['cats', 'dogs', 'birds']\n",
      "[1, 3.14, 'hello', 'cats', 'dogs', 'birds']\n",
      "[0, 1, 4, 9, 16, 25, 36, 49, 64, 81]\n"
     ]
    }
   ],
   "source": [
    "# list: similar to an array in other languages, but can store different types\n",
    "x = []\n",
    "# append() method to insert at the end. insert() method to insert at an index\n",
    "x.append(1)\n",
    "x.append(3.14)\n",
    "x.append(\"hello\")\n",
    "print(x)\n",
    "# assign x to a different list object\n",
    "y = ['cats', 'dogs', 'birds']\n",
    "print(y)\n",
    "# extend method to join two lists\n",
    "x.extend(y)\n",
    "print(x)\n",
    "\n",
    "# More advanced: List Comprehensions\n",
    "# equivalent to creating an empty list and populating in a for-loop\n",
    "z = [i*i for i in range(10)]\n",
    "print(z)"
   ]
  },
  {
   "cell_type": "markdown",
   "metadata": {},
   "source": [
    "## List Slicing"
   ]
  },
  {
   "cell_type": "code",
   "execution_count": 9,
   "metadata": {},
   "outputs": [
    {
     "name": "stdout",
     "output_type": "stream",
     "text": [
      "[0, 1, 4, 9, 16, 25, 36, 49, 64, 81]\n",
      "[1, 4, 9, 16]\n",
      "[16, 25, 36, 49, 64]\n",
      "\n",
      "[0, 1, 4, 9, 16, 25, 36, 49, 64, 81]\n",
      "[9, 16, 25, 36, 49, 64, 81]\n",
      "[0, 1, 4, 9]\n"
     ]
    }
   ],
   "source": [
    "# syntax: array[start:stop]\n",
    "print(z)\n",
    "print(z[1:5])\n",
    "print(z[4:9])\n",
    "# start/stop are optional. Beginning/End of the array assumed\n",
    "print()\n",
    "print(z[:]) # full array\n",
    "print(z[3:]) # 3rd index -> end of array\n",
    "print(z[:4]) # first 4 items"
   ]
  },
  {
   "cell_type": "markdown",
   "metadata": {},
   "source": [
    "## Dictionaries { }\n",
    "\n",
    "* Store (key,value) pairs"
   ]
  },
  {
   "cell_type": "code",
   "execution_count": 16,
   "metadata": {},
   "outputs": [
    {
     "name": "stdout",
     "output_type": "stream",
     "text": [
      "{'carrots': 10, 'tomatoes': 5, 'bananas': 13}\n",
      "We have 6 tomatoes\n",
      "We have 13 bananas\n",
      "We have 7 apples\n"
     ]
    }
   ],
   "source": [
    "inventory = {'carrots' : 10,\n",
    "             'tomatoes' : 5,\n",
    "             'bananas' : 13}\n",
    "\n",
    "print(inventory)\n",
    "\n",
    "# add a key,value pair\n",
    "inventory['apples'] = 7\n",
    "# modify a key's value\n",
    "inventory['tomatoes'] = 6\n",
    "\n",
    "# remove an entry\n",
    "del inventory['carrots']\n",
    "\n",
    "# loop through entries\n",
    "for key, value in inventory.items():\n",
    "    print(\"We have {} {}\".format(value, key))"
   ]
  },
  {
   "cell_type": "markdown",
   "metadata": {},
   "source": [
    "# Numpy Primer\n",
    "\n",
    "Main data structure: ndarray\n",
    "\n",
    "* Multidimensional array of same numeric type\n",
    "\n",
    "https://docs.scipy.org/doc/numpy-1.13.0/reference/generated/numpy.ndarray.html"
   ]
  },
  {
   "cell_type": "code",
   "execution_count": 2,
   "metadata": {},
   "outputs": [
    {
     "name": "stdout",
     "output_type": "stream",
     "text": [
      "[[0. 0. 0.]\n",
      " [0. 0. 0.]\n",
      " [0. 0. 0.]] (3, 3)\n",
      "[[1. 1. 1. 1. 1.]\n",
      " [1. 1. 1. 1. 1.]\n",
      " [1. 1. 1. 1. 1.]] (3, 5)\n",
      "[[0.1772705  0.4711302 ]\n",
      " [0.58939737 0.52686575]\n",
      " [0.15688697 0.38988193]\n",
      " [0.89488058 0.1557692 ]\n",
      " [0.50890676 0.61899261]] (5, 2)\n"
     ]
    }
   ],
   "source": [
    "zero_matrix = np.zeros(shape=(3,3))\n",
    "ones_matrix = np.ones(shape=(3,5))\n",
    "rand_matrix = np.random.rand(5,2)\n",
    "\n",
    "print(zero_matrix, zero_matrix.shape)\n",
    "print(ones_matrix, ones_matrix.shape)\n",
    "print(rand_matrix, rand_matrix.shape)"
   ]
  },
  {
   "cell_type": "code",
   "execution_count": null,
   "metadata": {},
   "outputs": [],
   "source": [
    "mult_matrix = np.dot(ones_matrix, rand_matrix)  # dot product == matrix-matrix multiply, matrix-vector multiply\n",
    "\n",
    "print(mult_matrix, mult_matrix.shape) # (3 x 5) * (5 x 2) => (3 x 2)"
   ]
  },
  {
   "cell_type": "markdown",
   "metadata": {},
   "source": [
    "# Array slicing\n",
    "\n",
    "Shorthand syntax for accessing sub-arrays by 'slicing' along the array's dimensions\n",
    "\n",
    "Suppose we only want rows 3 (inclusive) to 5 (exclusive) and columns 4 to 7. We would use the following line\n",
    "\n",
    "    array[3:5, 4:7]"
   ]
  },
  {
   "cell_type": "code",
   "execution_count": null,
   "metadata": {},
   "outputs": [],
   "source": [
    "# array[start : stop]\n",
    "# array[x_start : x_stop, y_start : y_stop, ...]\n",
    "\n",
    "# if start and stop are not given, then the beginning \n",
    "# and end of that array (or that array's dimensions) are assumed\n",
    "\n",
    "print(zero_matrix[:,:]) # the full matrix\n",
    "print()\n",
    "print(zero_matrix[2,:]) # just the bottom row\n",
    "print()\n",
    "print(ones_matrix[0, 2:5]) # row 0, columns 2,3,4 => shape=(1,3)\n",
    "print()\n",
    "print(rand_matrix[:3, 0:]) # rows 0,1,2, columns 0,1 => shape=(3,2)"
   ]
  },
  {
   "cell_type": "markdown",
   "metadata": {},
   "source": [
    "# Matplotlib\n",
    "\n",
    "* Matplotlib.pyplot  -  MATLAB-like plotting syntax https://matplotlib.org/api/pyplot_api.html\n",
    "\n",
    "* We give pyplot numpy arrays, and it plots them\n",
    "\n"
   ]
  },
  {
   "cell_type": "code",
   "execution_count": 3,
   "metadata": {},
   "outputs": [
    {
     "name": "stdout",
     "output_type": "stream",
     "text": [
      "(50,) (50,)\n"
     ]
    },
    {
     "data": {
      "image/png": "[encoded data removed]",
      "text/plain": [
       "<Figure size 432x288 with 1 Axes>"
      ]
     },
     "metadata": {},
     "output_type": "display_data"
    }
   ],
   "source": [
    "x = np.arange(0, 5, 0.1) # another useful numpy function - gives us a 1-D array from 0 to 5, step-size=0.1\n",
    "y = np.sin(x) # Pass in an array of input values, and get an array of the same shape\n",
    "print(x.shape, y.shape)\n",
    "plt.plot(x,y)\n",
    "plt.show()"
   ]
  },
  {
   "cell_type": "code",
   "execution_count": 4,
   "metadata": {},
   "outputs": [
    {
     "data": {
      "image/png": "[encoded data removed]",
      "text/plain": [
       "<Figure size 432x288 with 1 Axes>"
      ]
     },
     "metadata": {},
     "output_type": "display_data"
    }
   ],
   "source": [
    "plt.scatter(rand_matrix[:,0], rand_matrix[:,1])\n",
    "plt.show()"
   ]
  },
  {
   "cell_type": "code",
   "execution_count": 5,
   "metadata": {},
   "outputs": [
    {
     "data": {
      "image/png": "[encoded data removed]",
      "text/plain": [
       "<Figure size 432x288 with 1 Axes>"
      ]
     },
     "metadata": {},
     "output_type": "display_data"
    }
   ],
   "source": [
    "# plot options\n",
    "y1 = np.cos(x)\n",
    "y2 = np.tanh(x)\n",
    "plt.plot(x, y2, 'm|' , label='tanh')\n",
    "plt.plot(x, y1, 'g+', label='cos')\n",
    "plt.plot(x, y, 'r--', label='sin')\n",
    "plt.legend()\n",
    "plt.show()"
   ]
  },
  {
   "cell_type": "code",
   "execution_count": 8,
   "metadata": {},
   "outputs": [
    {
     "data": {
      "image/png": "[encoded data removed]",
      "text/plain": [
       "<Figure size 432x288 with 1 Axes>"
      ]
     },
     "metadata": {},
     "output_type": "display_data"
    }
   ],
   "source": [
    "# We'll be using this function to visualize image data - very handy!\n",
    "plt.imshow(rand_matrix, cmap='Greys')\n",
    "plt.show()"
   ]
  },
  {
   "cell_type": "code",
   "execution_count": null,
   "metadata": {},
   "outputs": [],
   "source": []
  }
 ],
 "metadata": {
  "kernelspec": {
   "display_name": "Python 3",
   "language": "python",
   "name": "python3"
  },
  "language_info": {
   "codemirror_mode": {
    "name": "ipython",
    "version": 3
   },
   "file_extension": ".py",
   "mimetype": "text/x-python",
   "name": "python",
   "nbconvert_exporter": "python",
   "pygments_lexer": "ipython3",
   "version": "3.7.3"
  }
 },
 "nbformat": 4,
 "nbformat_minor": 4
}

